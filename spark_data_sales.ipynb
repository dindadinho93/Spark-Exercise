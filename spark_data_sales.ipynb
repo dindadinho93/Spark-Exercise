{
 "cells": [
  {
   "cell_type": "code",
   "execution_count": 37,
   "metadata": {},
   "outputs": [],
   "source": [
    "import pyspark\n",
    "from pyspark.sql import SparkSession"
   ]
  },
  {
   "cell_type": "markdown",
   "metadata": {},
   "source": [
    "### Inisialisasi Spark"
   ]
  },
  {
   "cell_type": "code",
   "execution_count": 38,
   "metadata": {},
   "outputs": [],
   "source": [
    "spark = SparkSession.builder.appName(\"Pyspark Exercise\").config(\"spark.memory.offHeap.enabled\",\"true\").config(\"spark.memory.offHeap.size\",\"10g\").getOrCreate()"
   ]
  },
  {
   "cell_type": "code",
   "execution_count": 39,
   "metadata": {},
   "outputs": [],
   "source": [
    "df = spark.read.csv('D:\\KULIAH\\sales_data.csv', header =True)"
   ]
  },
  {
   "cell_type": "code",
   "execution_count": 40,
   "metadata": {},
   "outputs": [
    {
     "name": "stdout",
     "output_type": "stream",
     "text": [
      "+----------+---+--------+----+------------+--------------+---------------+---------+----------------+----------------+------------+-------------------+--------------+---------+----------+------+----+-------+\n",
      "|      Date|Day|   Month|Year|Customer_Age|     Age_Group|Customer_Gender|  Country|           State|Product_Category|Sub_Category|            Product|Order_Quantity|Unit_Cost|Unit_Price|Profit|Cost|Revenue|\n",
      "+----------+---+--------+----+------------+--------------+---------------+---------+----------------+----------------+------------+-------------------+--------------+---------+----------+------+----+-------+\n",
      "|2013-11-26| 26|November|2013|          19|   Youth (<25)|              M|   Canada|British Columbia|     Accessories|  Bike Racks|Hitch Rack - 4-Bike|             8|       45|       120|   590| 360|    950|\n",
      "|2015-11-26| 26|November|2015|          19|   Youth (<25)|              M|   Canada|British Columbia|     Accessories|  Bike Racks|Hitch Rack - 4-Bike|             8|       45|       120|   590| 360|    950|\n",
      "|2014-03-23| 23|   March|2014|          49|Adults (35-64)|              M|Australia| New South Wales|     Accessories|  Bike Racks|Hitch Rack - 4-Bike|            23|       45|       120|  1366|1035|   2401|\n",
      "|2016-03-23| 23|   March|2016|          49|Adults (35-64)|              M|Australia| New South Wales|     Accessories|  Bike Racks|Hitch Rack - 4-Bike|            20|       45|       120|  1188| 900|   2088|\n",
      "|2014-05-15| 15|     May|2014|          47|Adults (35-64)|              F|Australia| New South Wales|     Accessories|  Bike Racks|Hitch Rack - 4-Bike|             4|       45|       120|   238| 180|    418|\n",
      "+----------+---+--------+----+------------+--------------+---------------+---------+----------------+----------------+------------+-------------------+--------------+---------+----------+------+----+-------+\n",
      "only showing top 5 rows\n",
      "\n"
     ]
    }
   ],
   "source": [
    "df.show(5)"
   ]
  },
  {
   "cell_type": "markdown",
   "metadata": {},
   "source": [
    "### Select in Spark"
   ]
  },
  {
   "cell_type": "code",
   "execution_count": 41,
   "metadata": {},
   "outputs": [
    {
     "name": "stdout",
     "output_type": "stream",
     "text": [
      "+----------+-------------------+-------+\n",
      "|      Date|            Product|Revenue|\n",
      "+----------+-------------------+-------+\n",
      "|2013-11-26|Hitch Rack - 4-Bike|    950|\n",
      "|2015-11-26|Hitch Rack - 4-Bike|    950|\n",
      "|2014-03-23|Hitch Rack - 4-Bike|   2401|\n",
      "|2016-03-23|Hitch Rack - 4-Bike|   2088|\n",
      "|2014-05-15|Hitch Rack - 4-Bike|    418|\n",
      "|2016-05-15|Hitch Rack - 4-Bike|    522|\n",
      "|2014-05-22|Hitch Rack - 4-Bike|    379|\n",
      "|2016-05-22|Hitch Rack - 4-Bike|    190|\n",
      "|2014-02-22|Hitch Rack - 4-Bike|   2086|\n",
      "|2016-02-22|Hitch Rack - 4-Bike|   1991|\n",
      "|2013-07-30|Hitch Rack - 4-Bike|    758|\n",
      "|2015-07-30|Hitch Rack - 4-Bike|    758|\n",
      "|2013-07-15|Hitch Rack - 4-Bike|    664|\n",
      "|2015-07-15|Hitch Rack - 4-Bike|    664|\n",
      "|2013-08-02|Hitch Rack - 4-Bike|    594|\n",
      "|2015-08-02|Hitch Rack - 4-Bike|    832|\n",
      "|2013-09-02|Hitch Rack - 4-Bike|    238|\n",
      "|2015-09-02|Hitch Rack - 4-Bike|    119|\n",
      "|2014-01-22|Hitch Rack - 4-Bike|    119|\n",
      "|2016-01-22|Hitch Rack - 4-Bike|    119|\n",
      "+----------+-------------------+-------+\n",
      "only showing top 20 rows\n",
      "\n"
     ]
    }
   ],
   "source": [
    "df.select('Date', 'Product', 'Revenue').show()"
   ]
  },
  {
   "cell_type": "code",
   "execution_count": 42,
   "metadata": {},
   "outputs": [
    {
     "data": {
      "text/plain": [
       "113036"
      ]
     },
     "execution_count": 42,
     "metadata": {},
     "output_type": "execute_result"
    }
   ],
   "source": [
    "df.count() "
   ]
  },
  {
   "cell_type": "code",
   "execution_count": 43,
   "metadata": {},
   "outputs": [
    {
     "data": {
      "text/plain": [
       "1884"
      ]
     },
     "execution_count": 43,
     "metadata": {},
     "output_type": "execute_result"
    }
   ],
   "source": [
    "df.select('Date').distinct().count()"
   ]
  },
  {
   "cell_type": "code",
   "execution_count": 44,
   "metadata": {},
   "outputs": [
    {
     "name": "stdout",
     "output_type": "stream",
     "text": [
      "+----------------+-----------+\n",
      "|Product_Category|Total Order|\n",
      "+----------------+-----------+\n",
      "|        Clothing|   254743.0|\n",
      "|     Accessories|  1054162.0|\n",
      "|           Bikes|    36411.0|\n",
      "+----------------+-----------+\n",
      "\n"
     ]
    }
   ],
   "source": [
    "from pyspark.sql.functions import *\n",
    "from pyspark.sql.types import *\n",
    "\n",
    "df.groupBy('Product_Category').agg(sum('Order_Quantity').alias('Total Order')).show()"
   ]
  },
  {
   "cell_type": "code",
   "execution_count": 45,
   "metadata": {},
   "outputs": [
    {
     "name": "stdout",
     "output_type": "stream",
     "text": [
      "+-----------------+-----------+\n",
      "|     Sub_Category|Total Order|\n",
      "+-----------------+-----------+\n",
      "|          Jerseys|         32|\n",
      "|            Vests|         32|\n",
      "|Bottles and Cages|         32|\n",
      "|           Shorts|         32|\n",
      "|  Tires and Tubes|         32|\n",
      "|         Cleaners|         32|\n",
      "|            Socks|         32|\n",
      "|           Gloves|         32|\n",
      "|          Fenders|         32|\n",
      "|  Hydration Packs|         32|\n",
      "|             Caps|         32|\n",
      "|          Helmets|         32|\n",
      "|       Bike Racks|         30|\n",
      "|      Bike Stands|         12|\n",
      "|   Mountain Bikes|          4|\n",
      "|       Road Bikes|          4|\n",
      "|    Touring Bikes|          3|\n",
      "+-----------------+-----------+\n",
      "\n"
     ]
    }
   ],
   "source": [
    "df.groupBy('Sub_Category').agg(countDistinct('Order_Quantity').alias('Total Order')).orderBy(desc('Total Order')).show()"
   ]
  },
  {
   "cell_type": "code",
   "execution_count": 47,
   "metadata": {},
   "outputs": [
    {
     "name": "stdout",
     "output_type": "stream",
     "text": [
      "+-------------------+\n",
      "|          max(date)|\n",
      "+-------------------+\n",
      "|2016-07-31 00:00:00|\n",
      "+-------------------+\n",
      "\n"
     ]
    }
   ],
   "source": [
    "spark.sql(\"set spark.sql.legacy.timeParserPolicy=LEGACY\")\n",
    "df = df.withColumn('date',to_timestamp(\"Date\", 'yy-MM-dd'))\n",
    "df.select(max(\"date\")).show()"
   ]
  },
  {
   "cell_type": "code",
   "execution_count": 48,
   "metadata": {},
   "outputs": [
    {
     "name": "stdout",
     "output_type": "stream",
     "text": [
      "+-------------------+\n",
      "|          min(date)|\n",
      "+-------------------+\n",
      "|2011-01-01 00:00:00|\n",
      "+-------------------+\n",
      "\n"
     ]
    }
   ],
   "source": [
    "df.select(min(\"date\")).show()"
   ]
  },
  {
   "cell_type": "markdown",
   "metadata": {},
   "source": [
    "### Cetak schema"
   ]
  },
  {
   "cell_type": "code",
   "execution_count": 49,
   "metadata": {},
   "outputs": [
    {
     "name": "stdout",
     "output_type": "stream",
     "text": [
      "root\n",
      " |-- date: timestamp (nullable = true)\n",
      " |-- Day: string (nullable = true)\n",
      " |-- Month: string (nullable = true)\n",
      " |-- Year: string (nullable = true)\n",
      " |-- Customer_Age: string (nullable = true)\n",
      " |-- Age_Group: string (nullable = true)\n",
      " |-- Customer_Gender: string (nullable = true)\n",
      " |-- Country: string (nullable = true)\n",
      " |-- State: string (nullable = true)\n",
      " |-- Product_Category: string (nullable = true)\n",
      " |-- Sub_Category: string (nullable = true)\n",
      " |-- Product: string (nullable = true)\n",
      " |-- Order_Quantity: string (nullable = true)\n",
      " |-- Unit_Cost: string (nullable = true)\n",
      " |-- Unit_Price: string (nullable = true)\n",
      " |-- Profit: string (nullable = true)\n",
      " |-- Cost: string (nullable = true)\n",
      " |-- Revenue: string (nullable = true)\n",
      "\n"
     ]
    }
   ],
   "source": [
    "df.printSchema()"
   ]
  },
  {
   "cell_type": "code",
   "execution_count": 50,
   "metadata": {},
   "outputs": [
    {
     "name": "stdout",
     "output_type": "stream",
     "text": [
      "+--------------------+----------+\n",
      "|             Product|Total Cost|\n",
      "+--------------------+----------+\n",
      "|Water Bottle - 30...|     10794|\n",
      "| Patch Kit/8 Patches|     10416|\n",
      "|  Mountain Tire Tube|      6816|\n",
      "|        AWC Logo Cap|      4358|\n",
      "|Sport-100 Helmet,...|      4220|\n",
      "|      Road Tire Tube|      4176|\n",
      "|Sport-100 Helmet,...|      4152|\n",
      "|Fender Set - Moun...|      4032|\n",
      "|Sport-100 Helmet,...|      3788|\n",
      "|   Touring Tire Tube|      3702|\n",
      "|    Road Bottle Cage|      2640|\n",
      "|Mountain Bottle Cage|      2444|\n",
      "|Bike Wash - Disso...|      1804|\n",
      "|    HL Mountain Tire|      1800|\n",
      "|        LL Road Tire|      1686|\n",
      "|        ML Road Tire|      1396|\n",
      "|    ML Mountain Tire|      1376|\n",
      "|Hydration Pack - ...|      1332|\n",
      "|Mountain-200 Blac...|      1208|\n",
      "|Mountain-200 Silv...|      1106|\n",
      "+--------------------+----------+\n",
      "only showing top 20 rows\n",
      "\n"
     ]
    }
   ],
   "source": [
    "df.groupBy('Product').agg(count('Unit_Cost').alias('Total Cost')).orderBy(desc('Total Cost')).show()"
   ]
  }
 ],
 "metadata": {
  "kernelspec": {
   "display_name": "Python 3.10.8 64-bit",
   "language": "python",
   "name": "python3"
  },
  "language_info": {
   "codemirror_mode": {
    "name": "ipython",
    "version": 3
   },
   "file_extension": ".py",
   "mimetype": "text/x-python",
   "name": "python",
   "nbconvert_exporter": "python",
   "pygments_lexer": "ipython3",
   "version": "3.10.8"
  },
  "orig_nbformat": 4,
  "vscode": {
   "interpreter": {
    "hash": "d3e10ef16274dd72e574b8fa73b58450b957d8421a2901baded3cca26fcf5dda"
   }
  }
 },
 "nbformat": 4,
 "nbformat_minor": 2
}
