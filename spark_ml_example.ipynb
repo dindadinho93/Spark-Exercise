{
 "cells": [
  {
   "cell_type": "code",
   "execution_count": 42,
   "metadata": {},
   "outputs": [],
   "source": [
    "from pyspark.sql import SparkSession\n",
    "from pyspark.ml.classification  import RandomForestClassifier, DecisionTreeClassifier, NaiveBayes, LinearSVC, OneVsRest\n",
    "from pyspark.ml.feature import StringIndexer, VectorAssembler, StandardScaler, VectorIndexer\n",
    "from pyspark.sql.functions import *"
   ]
  },
  {
   "cell_type": "code",
   "execution_count": 2,
   "metadata": {},
   "outputs": [],
   "source": [
    "spark=SparkSession.builder.appName('SparkMlExample').getOrCreate()"
   ]
  },
  {
   "cell_type": "code",
   "execution_count": 3,
   "metadata": {},
   "outputs": [
    {
     "name": "stdout",
     "output_type": "stream",
     "text": [
      "root\n",
      " |-- Id: integer (nullable = true)\n",
      " |-- SepalLengthCm: double (nullable = true)\n",
      " |-- SepalWidthCm: double (nullable = true)\n",
      " |-- PetalLengthCm: double (nullable = true)\n",
      " |-- PetalWidthCm: double (nullable = true)\n",
      " |-- Species: string (nullable = true)\n",
      "\n"
     ]
    }
   ],
   "source": [
    "df = spark.read.csv('D:/KULIAH/Machine Learning Full/Random Forest/iris.csv', header = True, inferSchema=True)\n",
    "df.printSchema()"
   ]
  },
  {
   "cell_type": "code",
   "execution_count": 4,
   "metadata": {},
   "outputs": [
    {
     "name": "stdout",
     "output_type": "stream",
     "text": [
      "+---+-------------+------------+-------------+------------+-----------+-----+\n",
      "| Id|SepalLengthCm|SepalWidthCm|PetalLengthCm|PetalWidthCm|    Species|Label|\n",
      "+---+-------------+------------+-------------+------------+-----------+-----+\n",
      "|  1|          5.1|         3.5|          1.4|         0.2|Iris-setosa|  0.0|\n",
      "|  2|          4.9|         3.0|          1.4|         0.2|Iris-setosa|  0.0|\n",
      "|  3|          4.7|         3.2|          1.3|         0.2|Iris-setosa|  0.0|\n",
      "|  4|          4.6|         3.1|          1.5|         0.2|Iris-setosa|  0.0|\n",
      "|  5|          5.0|         3.6|          1.4|         0.2|Iris-setosa|  0.0|\n",
      "+---+-------------+------------+-------------+------------+-----------+-----+\n",
      "only showing top 5 rows\n",
      "\n"
     ]
    }
   ],
   "source": [
    "stringIndex = StringIndexer(inputCol='Species', outputCol='Label')\n",
    "df = stringIndex.fit(df).transform(df)\n",
    "df.show(5)"
   ]
  },
  {
   "cell_type": "code",
   "execution_count": 5,
   "metadata": {},
   "outputs": [],
   "source": [
    "featureAssembler = VectorAssembler(inputCols=['SepalLengthCm', 'SepalWidthCm','PetalLengthCm','PetalWidthCm'], outputCol='Features')\n",
    "df2 = featureAssembler.transform(df)"
   ]
  },
  {
   "cell_type": "code",
   "execution_count": 6,
   "metadata": {},
   "outputs": [
    {
     "name": "stdout",
     "output_type": "stream",
     "text": [
      "+-----------------+-----+\n",
      "|         Features|Label|\n",
      "+-----------------+-----+\n",
      "|[5.1,3.5,1.4,0.2]|  0.0|\n",
      "|[4.9,3.0,1.4,0.2]|  0.0|\n",
      "|[4.7,3.2,1.3,0.2]|  0.0|\n",
      "|[4.6,3.1,1.5,0.2]|  0.0|\n",
      "|[5.0,3.6,1.4,0.2]|  0.0|\n",
      "|[5.4,3.9,1.7,0.4]|  0.0|\n",
      "|[4.6,3.4,1.4,0.3]|  0.0|\n",
      "|[5.0,3.4,1.5,0.2]|  0.0|\n",
      "|[4.4,2.9,1.4,0.2]|  0.0|\n",
      "|[4.9,3.1,1.5,0.1]|  0.0|\n",
      "|[5.4,3.7,1.5,0.2]|  0.0|\n",
      "|[4.8,3.4,1.6,0.2]|  0.0|\n",
      "|[4.8,3.0,1.4,0.1]|  0.0|\n",
      "+-----------------+-----+\n",
      "only showing top 13 rows\n",
      "\n"
     ]
    }
   ],
   "source": [
    "df3 = df2.select(['Features','Label'])\n",
    "df3.show(13)"
   ]
  },
  {
   "cell_type": "code",
   "execution_count": 7,
   "metadata": {},
   "outputs": [],
   "source": [
    "train_data, test_data = df3.randomSplit([.80, .20], seed=11)"
   ]
  },
  {
   "cell_type": "code",
   "execution_count": 8,
   "metadata": {},
   "outputs": [
    {
     "name": "stdout",
     "output_type": "stream",
     "text": [
      "+-----+------------+\n",
      "|Label|count(Label)|\n",
      "+-----+------------+\n",
      "|  0.0|          37|\n",
      "|  1.0|          42|\n",
      "|  2.0|          41|\n",
      "+-----+------------+\n",
      "\n"
     ]
    }
   ],
   "source": [
    "train_data.groupBy('Label').agg(count('Label')).show()"
   ]
  },
  {
   "cell_type": "markdown",
   "metadata": {},
   "source": [
    "### Decision Tree"
   ]
  },
  {
   "cell_type": "code",
   "execution_count": 9,
   "metadata": {},
   "outputs": [],
   "source": [
    "dt = DecisionTreeClassifier(featuresCol = 'Features', labelCol = 'Label',impurity='Gini')\n",
    "dtModel = dt.fit(train_data)"
   ]
  },
  {
   "cell_type": "code",
   "execution_count": 10,
   "metadata": {},
   "outputs": [
    {
     "name": "stdout",
     "output_type": "stream",
     "text": [
      "root\n",
      " |-- Features: vector (nullable = true)\n",
      " |-- Label: double (nullable = false)\n",
      " |-- rawPrediction: vector (nullable = true)\n",
      " |-- probability: vector (nullable = true)\n",
      " |-- prediction: double (nullable = false)\n",
      "\n"
     ]
    }
   ],
   "source": [
    "predDt = dtModel.transform(test_data)\n",
    "predDt.printSchema()"
   ]
  },
  {
   "cell_type": "code",
   "execution_count": 11,
   "metadata": {},
   "outputs": [
    {
     "name": "stdout",
     "output_type": "stream",
     "text": [
      "accuracy  0.9666666666666667\n"
     ]
    }
   ],
   "source": [
    "from pyspark.ml.evaluation import MulticlassClassificationEvaluator\n",
    "evaluator = MulticlassClassificationEvaluator(predictionCol=\"prediction\", labelCol='Label')\n",
    "accuracy = evaluator.setMetricName('accuracy').evaluate(predDt)\n",
    "print('accuracy ',accuracy)"
   ]
  },
  {
   "cell_type": "code",
   "execution_count": 12,
   "metadata": {},
   "outputs": [
    {
     "name": "stderr",
     "output_type": "stream",
     "text": [
      "C:\\spark\\spark-3.3.1-bin-hadoop3\\python\\pyspark\\sql\\context.py:157: FutureWarning: Deprecated in 3.0.0. Use SparkSession.builder.getOrCreate() instead.\n",
      "  warnings.warn(\n"
     ]
    },
    {
     "name": "stdout",
     "output_type": "stream",
     "text": [
      "presisi : 1.0\n",
      "F1 : 0.9411764705882353\n"
     ]
    }
   ],
   "source": [
    "from pyspark.mllib.evaluation import MulticlassMetrics\n",
    "lr_metric = MulticlassMetrics(predDt['Label','prediction'].rdd)\n",
    "print('presisi :',lr_metric.precision(1.0))\n",
    "print('F1 :',lr_metric.fMeasure(1.0))"
   ]
  },
  {
   "cell_type": "markdown",
   "metadata": {},
   "source": [
    "### Random Forest Model"
   ]
  },
  {
   "cell_type": "code",
   "execution_count": 13,
   "metadata": {},
   "outputs": [
    {
     "name": "stdout",
     "output_type": "stream",
     "text": [
      "root\n",
      " |-- Features: vector (nullable = true)\n",
      " |-- Label: double (nullable = false)\n",
      " |-- rawPrediction: vector (nullable = true)\n",
      " |-- probability: vector (nullable = true)\n",
      " |-- prediction: double (nullable = false)\n",
      "\n"
     ]
    }
   ],
   "source": [
    "rf = RandomForestClassifier(featuresCol = 'Features', labelCol = 'Label', seed=15)\n",
    "rfModel = rf.fit(train_data)\n",
    "predRf = rfModel.transform(test_data)\n",
    "predRf.printSchema()"
   ]
  },
  {
   "cell_type": "code",
   "execution_count": 14,
   "metadata": {},
   "outputs": [
    {
     "name": "stderr",
     "output_type": "stream",
     "text": [
      "C:\\spark\\spark-3.3.1-bin-hadoop3\\python\\pyspark\\sql\\context.py:157: FutureWarning: Deprecated in 3.0.0. Use SparkSession.builder.getOrCreate() instead.\n",
      "  warnings.warn(\n"
     ]
    },
    {
     "name": "stdout",
     "output_type": "stream",
     "text": [
      "presisi : 1.0\n",
      "F1 : 0.9411764705882353\n",
      "accuracy  0.9666666666666667\n"
     ]
    }
   ],
   "source": [
    "evaluator = MulticlassClassificationEvaluator(predictionCol=\"prediction\", labelCol='Label', probabilityCol='probability')\n",
    "accuracy = evaluator.setMetricName('accuracy').evaluate(predRf)\n",
    "\n",
    "rf_metric = MulticlassMetrics(predRf['Label','prediction'].rdd)\n",
    "print('presisi :',rf_metric.precision(1.0))\n",
    "print('F1 :',rf_metric.fMeasure(1.0))\n",
    "\n",
    "print('accuracy ',accuracy)"
   ]
  },
  {
   "cell_type": "markdown",
   "metadata": {},
   "source": [
    "### Naive Bayes model"
   ]
  },
  {
   "cell_type": "code",
   "execution_count": 28,
   "metadata": {},
   "outputs": [
    {
     "name": "stdout",
     "output_type": "stream",
     "text": [
      "+--------------------+\n",
      "|       rawPrediction|\n",
      "+--------------------+\n",
      "|[-11.436538182314...|\n",
      "|[-11.351362961240...|\n",
      "|[-11.640927658369...|\n",
      "|[-11.771954420718...|\n",
      "|[-12.097828997859...|\n",
      "+--------------------+\n",
      "only showing top 5 rows\n",
      "\n"
     ]
    }
   ],
   "source": [
    "nb = NaiveBayes(featuresCol='Features', labelCol='Label')\n",
    "nbmodel = nb.fit(train_data)\n",
    "predictions = nbmodel.transform(test_data)\n",
    "predictions.select('rawPrediction').show(5, True)"
   ]
  },
  {
   "cell_type": "code",
   "execution_count": 32,
   "metadata": {},
   "outputs": [
    {
     "name": "stdout",
     "output_type": "stream",
     "text": [
      "presisi : 1.0\n",
      "F1 : 0.9411764705882353\n",
      "accuracy  0.9666666666666667\n"
     ]
    }
   ],
   "source": [
    "evaluator = MulticlassClassificationEvaluator(predictionCol=\"prediction\", labelCol='Label', probabilityCol='probability')\n",
    "accuracy = evaluator.setMetricName('accuracy').evaluate(predictions)\n",
    "\n",
    "rf_metric = MulticlassMetrics(predictions['Label','prediction'].rdd)\n",
    "print('presisi :',rf_metric.precision(1.0))\n",
    "print('F1 :',rf_metric.fMeasure(1.0))\n",
    "print('accuracy ',accuracy)"
   ]
  },
  {
   "cell_type": "markdown",
   "metadata": {},
   "source": [
    "### SVM"
   ]
  },
  {
   "cell_type": "code",
   "execution_count": 43,
   "metadata": {},
   "outputs": [
    {
     "name": "stdout",
     "output_type": "stream",
     "text": [
      "+-----------------+-----+--------------------+----------+\n",
      "|         Features|Label|       rawPrediction|prediction|\n",
      "+-----------------+-----+--------------------+----------+\n",
      "|[4.6,3.1,1.5,0.2]|  0.0|[1.97157676876047...|       0.0|\n",
      "|[4.6,3.2,1.4,0.2]|  0.0|[2.14772373448296...|       0.0|\n",
      "|[4.8,3.0,1.4,0.3]|  0.0|[1.69375530924379...|       0.0|\n",
      "+-----------------+-----+--------------------+----------+\n",
      "only showing top 3 rows\n",
      "\n"
     ]
    }
   ],
   "source": [
    "lsvc = LinearSVC(featuresCol='Features',labelCol='Label',maxIter=150)\n",
    "ovr= OneVsRest(classifier=lsvc, featuresCol='Features', labelCol='Label')\n",
    "ovrModel = ovr.fit(train_data)\n",
    "pred = ovrModel.transform(test_data)\n",
    "pred.show(3)"
   ]
  },
  {
   "cell_type": "code",
   "execution_count": 44,
   "metadata": {},
   "outputs": [
    {
     "name": "stderr",
     "output_type": "stream",
     "text": [
      "C:\\spark\\spark-3.3.1-bin-hadoop3\\python\\pyspark\\sql\\context.py:157: FutureWarning: Deprecated in 3.0.0. Use SparkSession.builder.getOrCreate() instead.\n",
      "  warnings.warn(\n"
     ]
    },
    {
     "name": "stdout",
     "output_type": "stream",
     "text": [
      "presisi : 0.875\n",
      "F1 : 0.9333333333333333\n",
      "accuracy  0.9666666666666667\n"
     ]
    }
   ],
   "source": [
    "evaluator = MulticlassClassificationEvaluator(predictionCol=\"prediction\", labelCol='Label', probabilityCol='probability')\n",
    "accuracy = evaluator.setMetricName('accuracy').evaluate(pred)\n",
    "\n",
    "rf_metric = MulticlassMetrics(pred['Label','prediction'].rdd)\n",
    "print('presisi :',rf_metric.precision(1.0))\n",
    "print('F1 :',rf_metric.fMeasure(1.0))\n",
    "print('accuracy ',accuracy)"
   ]
  }
 ],
 "metadata": {
  "kernelspec": {
   "display_name": "Python 3.10.8 64-bit",
   "language": "python",
   "name": "python3"
  },
  "language_info": {
   "codemirror_mode": {
    "name": "ipython",
    "version": 3
   },
   "file_extension": ".py",
   "mimetype": "text/x-python",
   "name": "python",
   "nbconvert_exporter": "python",
   "pygments_lexer": "ipython3",
   "version": "3.10.8"
  },
  "orig_nbformat": 4,
  "vscode": {
   "interpreter": {
    "hash": "d3e10ef16274dd72e574b8fa73b58450b957d8421a2901baded3cca26fcf5dda"
   }
  }
 },
 "nbformat": 4,
 "nbformat_minor": 2
}
