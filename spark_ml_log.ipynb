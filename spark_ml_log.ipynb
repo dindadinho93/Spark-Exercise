{
 "cells": [
  {
   "cell_type": "code",
   "execution_count": 1,
   "metadata": {},
   "outputs": [],
   "source": [
    "from pyspark.sql import SparkSession\n",
    "from pyspark.ml.classification  import LogisticRegression, DecisionTreeClassifier\n",
    "from pyspark.ml.feature import StringIndexer, VectorAssembler, StandardScaler\n",
    "from pyspark.sql.functions import *"
   ]
  },
  {
   "cell_type": "code",
   "execution_count": 2,
   "metadata": {},
   "outputs": [],
   "source": [
    "spark=SparkSession.builder.appName('SparkLogistic').getOrCreate()"
   ]
  },
  {
   "cell_type": "code",
   "execution_count": 3,
   "metadata": {},
   "outputs": [
    {
     "name": "stdout",
     "output_type": "stream",
     "text": [
      "root\n",
      " |-- Date: timestamp (nullable = true)\n",
      " |-- Day: integer (nullable = true)\n",
      " |-- Month: string (nullable = true)\n",
      " |-- Year: integer (nullable = true)\n",
      " |-- Customer_Age: integer (nullable = true)\n",
      " |-- Age_Group: string (nullable = true)\n",
      " |-- Customer_Gender: string (nullable = true)\n",
      " |-- Country: string (nullable = true)\n",
      " |-- State: string (nullable = true)\n",
      " |-- Product_Category: string (nullable = true)\n",
      " |-- Sub_Category: string (nullable = true)\n",
      " |-- Product: string (nullable = true)\n",
      " |-- Order_Quantity: integer (nullable = true)\n",
      " |-- Unit_Cost: integer (nullable = true)\n",
      " |-- Unit_Price: integer (nullable = true)\n",
      " |-- Profit: integer (nullable = true)\n",
      " |-- Cost: integer (nullable = true)\n",
      " |-- Revenue: integer (nullable = true)\n",
      "\n"
     ]
    }
   ],
   "source": [
    "df = spark.read.csv('sales_data.csv', header = True, inferSchema=True)\n",
    "df.printSchema()"
   ]
  },
  {
   "cell_type": "code",
   "execution_count": 4,
   "metadata": {},
   "outputs": [],
   "source": [
    "stringIndex = StringIndexer(inputCol='Customer_Gender', outputCol='Gender_Index')\n",
    "indexed = stringIndex.fit(df).transform(df)"
   ]
  },
  {
   "cell_type": "code",
   "execution_count": 5,
   "metadata": {},
   "outputs": [],
   "source": [
    "featureAssembler = VectorAssembler(inputCols=['Unit_Price', 'Profit','Cost','Revenue'], outputCol='Features')\n",
    "df2 = featureAssembler.transform(indexed)"
   ]
  },
  {
   "cell_type": "code",
   "execution_count": 6,
   "metadata": {},
   "outputs": [
    {
     "name": "stdout",
     "output_type": "stream",
     "text": [
      "+--------------------+------------+\n",
      "|            Features|Gender_Index|\n",
      "+--------------------+------------+\n",
      "|[120.0,590.0,360....|         0.0|\n",
      "|[120.0,590.0,360....|         0.0|\n",
      "|[120.0,1366.0,103...|         0.0|\n",
      "|[120.0,1188.0,900...|         0.0|\n",
      "|[120.0,238.0,180....|         1.0|\n",
      "|[120.0,297.0,225....|         1.0|\n",
      "|[120.0,199.0,180....|         1.0|\n",
      "|[120.0,100.0,90.0...|         1.0|\n",
      "|[120.0,1096.0,990...|         0.0|\n",
      "|[120.0,1046.0,945...|         0.0|\n",
      "|[120.0,398.0,360....|         1.0|\n",
      "|[120.0,398.0,360....|         1.0|\n",
      "|[120.0,349.0,315....|         0.0|\n",
      "+--------------------+------------+\n",
      "only showing top 13 rows\n",
      "\n"
     ]
    }
   ],
   "source": [
    "df3 = df2.select(['Features','Gender_Index'])\n",
    "df3.show(13)"
   ]
  },
  {
   "cell_type": "code",
   "execution_count": 7,
   "metadata": {},
   "outputs": [
    {
     "name": "stdout",
     "output_type": "stream",
     "text": [
      "+--------------------+------------+--------------------+\n",
      "|            Features|Gender_Index|              Scaler|\n",
      "+--------------------+------------+--------------------+\n",
      "|[120.0,590.0,360....|         0.0|[0.13014179109459...|\n",
      "|[120.0,590.0,360....|         0.0|[0.13014179109459...|\n",
      "|[120.0,1366.0,103...|         0.0|[0.13014179109459...|\n",
      "|[120.0,1188.0,900...|         0.0|[0.13014179109459...|\n",
      "|[120.0,238.0,180....|         1.0|[0.13014179109459...|\n",
      "|[120.0,297.0,225....|         1.0|[0.13014179109459...|\n",
      "|[120.0,199.0,180....|         1.0|[0.13014179109459...|\n",
      "|[120.0,100.0,90.0...|         1.0|[0.13014179109459...|\n",
      "|[120.0,1096.0,990...|         0.0|[0.13014179109459...|\n",
      "|[120.0,1046.0,945...|         0.0|[0.13014179109459...|\n",
      "|[120.0,398.0,360....|         1.0|[0.13014179109459...|\n",
      "|[120.0,398.0,360....|         1.0|[0.13014179109459...|\n",
      "|[120.0,349.0,315....|         0.0|[0.13014179109459...|\n",
      "|[120.0,349.0,315....|         0.0|[0.13014179109459...|\n",
      "|[120.0,369.0,225....|         0.0|[0.13014179109459...|\n",
      "|[120.0,517.0,315....|         0.0|[0.13014179109459...|\n",
      "|[120.0,148.0,90.0...|         0.0|[0.13014179109459...|\n",
      "|[120.0,74.0,45.0,...|         0.0|[0.13014179109459...|\n",
      "|[120.0,74.0,45.0,...|         0.0|[0.13014179109459...|\n",
      "|[120.0,74.0,45.0,...|         0.0|[0.13014179109459...|\n",
      "+--------------------+------------+--------------------+\n",
      "only showing top 20 rows\n",
      "\n"
     ]
    }
   ],
   "source": [
    "scaler = StandardScaler(inputCol='Features', outputCol='Scaler')\n",
    "scaledModel = scaler.fit(df3).transform(df3)\n",
    "scaledModel.show()"
   ]
  },
  {
   "cell_type": "code",
   "execution_count": 8,
   "metadata": {},
   "outputs": [],
   "source": [
    "train_data, test_data = scaledModel.randomSplit([.8, .2], seed=1233)"
   ]
  },
  {
   "cell_type": "code",
   "execution_count": 9,
   "metadata": {},
   "outputs": [
    {
     "name": "stdout",
     "output_type": "stream",
     "text": [
      "+------------+-------------+\n",
      "|Gender_Index|count(Scaler)|\n",
      "+------------+-------------+\n",
      "|         0.0|        46621|\n",
      "|         1.0|        43728|\n",
      "+------------+-------------+\n",
      "\n"
     ]
    }
   ],
   "source": [
    "train_data.groupBy('Gender_Index').agg(count('Scaler')).show()"
   ]
  },
  {
   "cell_type": "markdown",
   "metadata": {},
   "source": [
    "### Inisialisasi Logistic Regression"
   ]
  },
  {
   "cell_type": "code",
   "execution_count": 10,
   "metadata": {},
   "outputs": [],
   "source": [
    "lr = LogisticRegression(labelCol='Gender_Index', featuresCol='Scaler', maxIter=20, regParam=0.3)\n",
    "lModel = lr.fit(train_data)"
   ]
  },
  {
   "cell_type": "code",
   "execution_count": 11,
   "metadata": {},
   "outputs": [],
   "source": [
    "pred = lModel.transform(test_data)"
   ]
  },
  {
   "cell_type": "code",
   "execution_count": 12,
   "metadata": {},
   "outputs": [
    {
     "name": "stdout",
     "output_type": "stream",
     "text": [
      "root\n",
      " |-- Features: vector (nullable = true)\n",
      " |-- Gender_Index: double (nullable = false)\n",
      " |-- Scaler: vector (nullable = true)\n",
      " |-- rawPrediction: vector (nullable = true)\n",
      " |-- probability: vector (nullable = true)\n",
      " |-- prediction: double (nullable = false)\n",
      "\n"
     ]
    }
   ],
   "source": [
    "pred.printSchema()"
   ]
  },
  {
   "cell_type": "code",
   "execution_count": 13,
   "metadata": {},
   "outputs": [
    {
     "name": "stdout",
     "output_type": "stream",
     "text": [
      "+------------+----------+--------------------+\n",
      "|Gender_Index|prediction|         probability|\n",
      "+------------+----------+--------------------+\n",
      "|         0.0|       0.0|[0.51818049614913...|\n",
      "|         0.0|       0.0|[0.51818049614913...|\n",
      "|         0.0|       0.0|[0.51818049614913...|\n",
      "|         0.0|       0.0|[0.51818049614913...|\n",
      "|         0.0|       0.0|[0.51818049614913...|\n",
      "|         0.0|       0.0|[0.51818049614913...|\n",
      "|         0.0|       0.0|[0.51818049614913...|\n",
      "|         0.0|       0.0|[0.51818049614913...|\n",
      "|         0.0|       0.0|[0.51818049614913...|\n",
      "|         0.0|       0.0|[0.51818049614913...|\n",
      "|         0.0|       0.0|[0.51818049614913...|\n",
      "|         0.0|       0.0|[0.51818049614913...|\n",
      "|         0.0|       0.0|[0.51818049614913...|\n",
      "|         0.0|       0.0|[0.51818049614913...|\n",
      "|         0.0|       0.0|[0.51818049614913...|\n",
      "|         0.0|       0.0|[0.51818049614913...|\n",
      "|         0.0|       0.0|[0.51818049614913...|\n",
      "|         0.0|       0.0|[0.51818049614913...|\n",
      "|         0.0|       0.0|[0.51818049614913...|\n",
      "|         0.0|       0.0|[0.51818049614913...|\n",
      "+------------+----------+--------------------+\n",
      "only showing top 20 rows\n",
      "\n"
     ]
    }
   ],
   "source": [
    "selected =pred.select(\"Gender_Index\", \"prediction\", \"probability\")\n",
    "selected.show(20)"
   ]
  },
  {
   "cell_type": "markdown",
   "metadata": {},
   "source": [
    "### Evaluated"
   ]
  },
  {
   "cell_type": "code",
   "execution_count": 14,
   "metadata": {},
   "outputs": [
    {
     "name": "stdout",
     "output_type": "stream",
     "text": [
      "+----------+-----------------+\n",
      "|prediction|count(prediction)|\n",
      "+----------+-----------------+\n",
      "|       0.0|            22531|\n",
      "|       1.0|              156|\n",
      "+----------+-----------------+\n",
      "\n"
     ]
    }
   ],
   "source": [
    "pred.groupBy('prediction').agg(count('prediction')).show()"
   ]
  },
  {
   "cell_type": "code",
   "execution_count": 15,
   "metadata": {},
   "outputs": [
    {
     "name": "stdout",
     "output_type": "stream",
     "text": [
      "+------------+-------------------+\n",
      "|Gender_Index|count(Gender_Index)|\n",
      "+------------+-------------------+\n",
      "|         0.0|              11691|\n",
      "|         1.0|              10996|\n",
      "+------------+-------------------+\n",
      "\n"
     ]
    }
   ],
   "source": [
    "pred.groupBy('Gender_Index').agg(count('Gender_Index')).show()"
   ]
  },
  {
   "cell_type": "code",
   "execution_count": 16,
   "metadata": {},
   "outputs": [],
   "source": [
    "cm = pred.select(\"Gender_Index\", \"prediction\")"
   ]
  },
  {
   "cell_type": "code",
   "execution_count": 17,
   "metadata": {},
   "outputs": [
    {
     "data": {
      "text/plain": [
       "0.5151408295499625"
      ]
     },
     "execution_count": 17,
     "metadata": {},
     "output_type": "execute_result"
    }
   ],
   "source": [
    "cm.filter(cm.Gender_Index == cm.prediction).count() / cm.count()"
   ]
  },
  {
   "cell_type": "code",
   "execution_count": 18,
   "metadata": {},
   "outputs": [
    {
     "name": "stdout",
     "output_type": "stream",
     "text": [
      "0.5027836538968657\n",
      "areaUnderROC\n"
     ]
    }
   ],
   "source": [
    "### Use ROC \n",
    "from pyspark.ml.evaluation import BinaryClassificationEvaluator\n",
    "\n",
    "# Evaluate model\n",
    "evaluator = BinaryClassificationEvaluator(rawPredictionCol=\"rawPrediction\", labelCol='Gender_Index')\n",
    "print(evaluator.evaluate(pred))\n",
    "print(evaluator.getMetricName())"
   ]
  },
  {
   "cell_type": "markdown",
   "metadata": {},
   "source": [
    "### Decision Tree Classifier"
   ]
  },
  {
   "cell_type": "code",
   "execution_count": 19,
   "metadata": {},
   "outputs": [],
   "source": [
    "dt = DecisionTreeClassifier(featuresCol = 'Features', labelCol = 'Gender_Index', maxDepth = 3)\n",
    "dtModel = dt.fit(train_data)"
   ]
  },
  {
   "cell_type": "code",
   "execution_count": 20,
   "metadata": {},
   "outputs": [
    {
     "name": "stdout",
     "output_type": "stream",
     "text": [
      "root\n",
      " |-- Features: vector (nullable = true)\n",
      " |-- Gender_Index: double (nullable = false)\n",
      " |-- Scaler: vector (nullable = true)\n",
      " |-- rawPrediction: vector (nullable = true)\n",
      " |-- probability: vector (nullable = true)\n",
      " |-- prediction: double (nullable = false)\n",
      "\n"
     ]
    }
   ],
   "source": [
    "predictions = dtModel.transform(test_data)\n",
    "predictions.printSchema()"
   ]
  },
  {
   "cell_type": "code",
   "execution_count": 21,
   "metadata": {},
   "outputs": [
    {
     "name": "stdout",
     "output_type": "stream",
     "text": [
      "+------------+----------+--------------------+\n",
      "|Gender_Index|prediction|         probability|\n",
      "+------------+----------+--------------------+\n",
      "|         0.0|       0.0|[0.52062311453240...|\n",
      "|         0.0|       0.0|[0.52062311453240...|\n",
      "|         0.0|       0.0|[0.52062311453240...|\n",
      "|         0.0|       0.0|[0.52062311453240...|\n",
      "|         0.0|       0.0|[0.52062311453240...|\n",
      "|         0.0|       0.0|[0.52062311453240...|\n",
      "|         0.0|       0.0|[0.52062311453240...|\n",
      "|         0.0|       0.0|[0.52062311453240...|\n",
      "|         0.0|       0.0|[0.52062311453240...|\n",
      "|         0.0|       0.0|[0.52062311453240...|\n",
      "|         0.0|       0.0|[0.52062311453240...|\n",
      "|         0.0|       0.0|[0.52062311453240...|\n",
      "|         0.0|       0.0|[0.52062311453240...|\n",
      "|         0.0|       0.0|[0.52062311453240...|\n",
      "|         0.0|       0.0|[0.52062311453240...|\n",
      "|         0.0|       0.0|[0.52062311453240...|\n",
      "|         0.0|       0.0|[0.52062311453240...|\n",
      "|         0.0|       0.0|[0.52062311453240...|\n",
      "|         0.0|       0.0|[0.52062311453240...|\n",
      "|         0.0|       0.0|[0.52062311453240...|\n",
      "+------------+----------+--------------------+\n",
      "only showing top 20 rows\n",
      "\n"
     ]
    }
   ],
   "source": [
    "selected1 =predictions.select(\"Gender_Index\", \"prediction\", \"probability\")\n",
    "selected1.show(20)"
   ]
  },
  {
   "cell_type": "code",
   "execution_count": 22,
   "metadata": {},
   "outputs": [
    {
     "name": "stdout",
     "output_type": "stream",
     "text": [
      "Test Area Under ROC: 0.49389818239828365\n"
     ]
    }
   ],
   "source": [
    "evaluator = BinaryClassificationEvaluator(rawPredictionCol=\"rawPrediction\", labelCol='Gender_Index')\n",
    "print(\"Test Area Under ROC: \" + str(evaluator.evaluate(predictions, {evaluator.metricName: \"areaUnderROC\"})))"
   ]
  },
  {
   "cell_type": "code",
   "execution_count": 23,
   "metadata": {},
   "outputs": [],
   "source": [
    "dtc = predictions.select(\"Gender_Index\", \"prediction\")"
   ]
  },
  {
   "cell_type": "code",
   "execution_count": 24,
   "metadata": {},
   "outputs": [
    {
     "data": {
      "text/plain": [
       "0.5159342354652444"
      ]
     },
     "execution_count": 24,
     "metadata": {},
     "output_type": "execute_result"
    }
   ],
   "source": [
    "dtc.filter(dtc.Gender_Index == dtc.prediction).count() / dtc.count()"
   ]
  },
  {
   "cell_type": "markdown",
   "metadata": {},
   "source": [
    "### Perbaikan"
   ]
  },
  {
   "cell_type": "code",
   "execution_count": 25,
   "metadata": {},
   "outputs": [],
   "source": [
    "from pyspark.ml import Pipeline\n",
    "from pyspark.ml.classification import GBTClassifier\n",
    "from pyspark.ml.feature import StringIndexer, VectorIndexer"
   ]
  },
  {
   "cell_type": "code",
   "execution_count": 27,
   "metadata": {},
   "outputs": [],
   "source": [
    "labelIndexer = StringIndexer(inputCol=\"Gender_Index\", outputCol=\"indexedLabel\").fit(df3)"
   ]
  },
  {
   "cell_type": "code",
   "execution_count": 29,
   "metadata": {},
   "outputs": [],
   "source": [
    "featureIndexer =VectorIndexer(inputCol=\"Features\", outputCol=\"indexedFeatures\", maxCategories=4).fit(df3)"
   ]
  },
  {
   "cell_type": "code",
   "execution_count": 30,
   "metadata": {},
   "outputs": [],
   "source": [
    "# Split the data into training and test sets (30% held out for testing)\n",
    "trainingData, testData = df3.randomSplit([0.7, 0.3])"
   ]
  },
  {
   "cell_type": "code",
   "execution_count": 31,
   "metadata": {},
   "outputs": [],
   "source": [
    "# Train a GBT model.\n",
    "gbt = GBTClassifier(labelCol=\"indexedLabel\", featuresCol=\"indexedFeatures\", maxIter=10)"
   ]
  },
  {
   "cell_type": "code",
   "execution_count": 32,
   "metadata": {},
   "outputs": [],
   "source": [
    " # Chain indexers and GBT in a Pipeline\n",
    "pipeline = Pipeline(stages=[labelIndexer, featureIndexer, gbt])"
   ]
  },
  {
   "cell_type": "code",
   "execution_count": 33,
   "metadata": {},
   "outputs": [],
   "source": [
    "# Train model.  This also runs the indexers.\n",
    "model = pipeline.fit(trainingData)"
   ]
  },
  {
   "cell_type": "code",
   "execution_count": 34,
   "metadata": {},
   "outputs": [],
   "source": [
    " # Make predictions.\n",
    "predictions = model.transform(testData)"
   ]
  },
  {
   "cell_type": "code",
   "execution_count": 35,
   "metadata": {},
   "outputs": [
    {
     "name": "stdout",
     "output_type": "stream",
     "text": [
      "+----------+------------+-----------------+\n",
      "|prediction|indexedLabel|         features|\n",
      "+----------+------------+-----------------+\n",
      "|       1.0|         0.0|[5.0,2.0,2.0,4.0]|\n",
      "|       1.0|         0.0|[5.0,2.0,2.0,4.0]|\n",
      "|       1.0|         0.0|[5.0,2.0,2.0,4.0]|\n",
      "|       1.0|         0.0|[5.0,2.0,2.0,4.0]|\n",
      "|       1.0|         0.0|[5.0,2.0,2.0,4.0]|\n",
      "+----------+------------+-----------------+\n",
      "only showing top 5 rows\n",
      "\n"
     ]
    }
   ],
   "source": [
    "# Select example rows to display.\n",
    "predictions.select(\"prediction\", \"indexedLabel\", \"features\").show(5)"
   ]
  },
  {
   "cell_type": "code",
   "execution_count": 37,
   "metadata": {},
   "outputs": [
    {
     "name": "stdout",
     "output_type": "stream",
     "text": [
      "Accuracy: 0.5407045045816932\n"
     ]
    }
   ],
   "source": [
    "# Select (prediction, true label) and compute test error\n",
    "evaluator = BinaryClassificationEvaluator(labelCol=\"indexedLabel\", rawPredictionCol='rawPrediction')\n",
    "accuracy = evaluator.evaluate(predictions)\n",
    "print('Accuracy:', accuracy)"
   ]
  }
 ],
 "metadata": {
  "kernelspec": {
   "display_name": "Python 3.10.8 64-bit",
   "language": "python",
   "name": "python3"
  },
  "language_info": {
   "codemirror_mode": {
    "name": "ipython",
    "version": 3
   },
   "file_extension": ".py",
   "mimetype": "text/x-python",
   "name": "python",
   "nbconvert_exporter": "python",
   "pygments_lexer": "ipython3",
   "version": "3.10.8"
  },
  "orig_nbformat": 4,
  "vscode": {
   "interpreter": {
    "hash": "d3e10ef16274dd72e574b8fa73b58450b957d8421a2901baded3cca26fcf5dda"
   }
  }
 },
 "nbformat": 4,
 "nbformat_minor": 2
}
