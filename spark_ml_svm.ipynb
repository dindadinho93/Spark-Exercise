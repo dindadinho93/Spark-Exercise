{
 "cells": [
  {
   "cell_type": "code",
   "execution_count": 1,
   "metadata": {},
   "outputs": [],
   "source": [
    "from pyspark.sql import SparkSession\n",
    "from pyspark.ml import Pipeline\n",
    "from pyspark.ml.classification  import LinearSVC\n",
    "from pyspark.ml.feature import StringIndexer, VectorAssembler, StandardScaler\n",
    "from pyspark.sql.functions import *"
   ]
  },
  {
   "cell_type": "code",
   "execution_count": 2,
   "metadata": {},
   "outputs": [],
   "source": [
    "spark=SparkSession.builder.appName('SparkSVM').getOrCreate()"
   ]
  },
  {
   "cell_type": "code",
   "execution_count": 3,
   "metadata": {},
   "outputs": [
    {
     "name": "stdout",
     "output_type": "stream",
     "text": [
      "root\n",
      " |-- NomorPasien: double (nullable = true)\n",
      " |-- NomorAppointment: integer (nullable = true)\n",
      " |-- JenisKelamin: string (nullable = true)\n",
      " |-- TanggalPembuatan: timestamp (nullable = true)\n",
      " |-- TanggalAppointment: timestamp (nullable = true)\n",
      " |-- Umur: integer (nullable = true)\n",
      " |-- Daerah: string (nullable = true)\n",
      " |-- Beasiswa: integer (nullable = true)\n",
      " |-- DarahTinggi: integer (nullable = true)\n",
      " |-- Diabetes: integer (nullable = true)\n",
      " |-- Alkohol: integer (nullable = true)\n",
      " |-- Disabled: integer (nullable = true)\n",
      " |-- SMS_received: integer (nullable = true)\n",
      " |-- No-show: string (nullable = true)\n",
      "\n"
     ]
    }
   ],
   "source": [
    "df = spark.read.csv('D:/KULIAH/no_show_appointments.csv', header=True, inferSchema=True)\n",
    "df.printSchema()"
   ]
  },
  {
   "cell_type": "code",
   "execution_count": 4,
   "metadata": {},
   "outputs": [
    {
     "name": "stdout",
     "output_type": "stream",
     "text": [
      "+-----------+----------------+------------+-------------------+-------------------+----+----------------+--------+-----------+--------+-------+--------+------------+-------+------+-----+\n",
      "|NomorPasien|NomorAppointment|JenisKelamin|   TanggalPembuatan| TanggalAppointment|Umur|          Daerah|Beasiswa|DarahTinggi|Diabetes|Alkohol|Disabled|SMS_received|No-show|Gender|Label|\n",
      "+-----------+----------------+------------+-------------------+-------------------+----+----------------+--------+-----------+--------+-------+--------+------------+-------+------+-----+\n",
      "| 2.14311E13|         5611376|           F|2016-04-25 14:08:41|2016-05-25 07:00:00|  43|     Bidara Cina|       0|          0|       0|      0|       0|           1|     No|   0.0|  0.0|\n",
      "| 2.83935E13|         5629135|           M|2016-04-27 19:50:39|2016-04-29 07:00:00|  78| Harapan Mulia  |       0|          1|       1|      0|       0|           0|     No|   1.0|  0.0|\n",
      "| 3.48758E13|         5686183|           M|2016-05-11 19:18:24|2016-05-17 07:00:00|  58|       Cililitan|       0|          1|       0|      0|       0|           0|     No|   1.0|  0.0|\n",
      "| 8.35673E13|         5729853|           F|2016-05-24 14:54:37|2016-05-24 07:00:00|  22|    Cempaka Baru|       0|          0|       0|      0|       0|           0|     No|   0.0|  0.0|\n",
      "| 9.18688E14|         5690145|           F|2016-05-12 16:34:57|2016-05-12 07:00:00|  30|       Cijantung|       0|          0|       0|      0|       0|           0|     No|   0.0|  0.0|\n",
      "+-----------+----------------+------------+-------------------+-------------------+----+----------------+--------+-----------+--------+-------+--------+------------+-------+------+-----+\n",
      "only showing top 5 rows\n",
      "\n"
     ]
    }
   ],
   "source": [
    "stringIndex = [StringIndexer(inputCol='JenisKelamin', outputCol='Gender'), StringIndexer(inputCol='No-show', outputCol='Label')]\n",
    "pipeline = Pipeline(stages=stringIndex) \n",
    "\n",
    "df = pipeline.fit(df).transform(df)\n",
    "df.show(5)"
   ]
  },
  {
   "cell_type": "code",
   "execution_count": 28,
   "metadata": {},
   "outputs": [],
   "source": [
    "featureAssembler = VectorAssembler(inputCols=['Umur','Beasiswa','DarahTinggi','Diabetes','Alkohol','SMS_received','Gender'], outputCol='Features')\n",
    "df2 = featureAssembler.transform(df)"
   ]
  },
  {
   "cell_type": "code",
   "execution_count": 29,
   "metadata": {},
   "outputs": [
    {
     "name": "stdout",
     "output_type": "stream",
     "text": [
      "+--------------------+-----+\n",
      "|            Features|Label|\n",
      "+--------------------+-----+\n",
      "|(7,[0,5],[43.0,1.0])|  0.0|\n",
      "|[78.0,0.0,1.0,1.0...|  0.0|\n",
      "|(7,[0,2,6],[58.0,...|  0.0|\n",
      "|      (7,[0],[22.0])|  0.0|\n",
      "|      (7,[0],[30.0])|  0.0|\n",
      "|[5.0,1.0,0.0,0.0,...|  1.0|\n",
      "|(7,[0,1,5],[31.0,...|  0.0|\n",
      "|(7,[0,2],[43.0,1.0])|  0.0|\n",
      "|(7,[0,4],[45.0,1.0])|  0.0|\n",
      "|           (7,[],[])|  0.0|\n",
      "|      (7,[0],[28.0])|  0.0|\n",
      "|(7,[0,2],[50.0,1.0])|  0.0|\n",
      "|       (7,[6],[1.0])|  1.0|\n",
      "+--------------------+-----+\n",
      "only showing top 13 rows\n",
      "\n"
     ]
    }
   ],
   "source": [
    "df3 = df2.select(['Features','Label'])\n",
    "df3.show(13)"
   ]
  },
  {
   "cell_type": "code",
   "execution_count": 30,
   "metadata": {},
   "outputs": [],
   "source": [
    "# Split the data into training and test sets (30% held out for testing)\n",
    "trainingData, testData = df3.randomSplit([0.7, 0.3], seed=1310)"
   ]
  },
  {
   "cell_type": "markdown",
   "metadata": {},
   "source": [
    "### SVM Classifier"
   ]
  },
  {
   "cell_type": "code",
   "execution_count": 31,
   "metadata": {},
   "outputs": [],
   "source": [
    "lsvc = LinearSVC(featuresCol='Features', labelCol='Label', maxIter=150)"
   ]
  },
  {
   "cell_type": "code",
   "execution_count": 32,
   "metadata": {},
   "outputs": [],
   "source": [
    "lsvc = lsvc.fit(trainingData)"
   ]
  },
  {
   "cell_type": "code",
   "execution_count": 33,
   "metadata": {},
   "outputs": [
    {
     "name": "stdout",
     "output_type": "stream",
     "text": [
      "+---------+-----+--------------------+----------+\n",
      "| Features|Label|       rawPrediction|prediction|\n",
      "+---------+-----+--------------------+----------+\n",
      "|(7,[],[])|  0.0|[0.99999999890478...|       0.0|\n",
      "|(7,[],[])|  0.0|[0.99999999890478...|       0.0|\n",
      "|(7,[],[])|  0.0|[0.99999999890478...|       0.0|\n",
      "+---------+-----+--------------------+----------+\n",
      "only showing top 3 rows\n",
      "\n"
     ]
    }
   ],
   "source": [
    "pred = lsvc.transform(testData)\n",
    "pred.show(3)"
   ]
  },
  {
   "cell_type": "code",
   "execution_count": 34,
   "metadata": {},
   "outputs": [
    {
     "name": "stdout",
     "output_type": "stream",
     "text": [
      "Accuracy: 0.5823432596178479\n"
     ]
    }
   ],
   "source": [
    "from pyspark.ml.evaluation import BinaryClassificationEvaluator\n",
    "# Select (prediction, true label) and compute test error\n",
    "evaluator = BinaryClassificationEvaluator(labelCol=\"Label\", rawPredictionCol='rawPrediction')\n",
    "accuracy = evaluator.evaluate(pred)\n",
    "print('Accuracy:', accuracy)"
   ]
  }
 ],
 "metadata": {
  "kernelspec": {
   "display_name": "Python 3.10.8 64-bit",
   "language": "python",
   "name": "python3"
  },
  "language_info": {
   "codemirror_mode": {
    "name": "ipython",
    "version": 3
   },
   "file_extension": ".py",
   "mimetype": "text/x-python",
   "name": "python",
   "nbconvert_exporter": "python",
   "pygments_lexer": "ipython3",
   "version": "3.10.8"
  },
  "orig_nbformat": 4,
  "vscode": {
   "interpreter": {
    "hash": "d3e10ef16274dd72e574b8fa73b58450b957d8421a2901baded3cca26fcf5dda"
   }
  }
 },
 "nbformat": 4,
 "nbformat_minor": 2
}
