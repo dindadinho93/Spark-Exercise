{
 "cells": [
  {
   "cell_type": "code",
   "execution_count": 1,
   "metadata": {},
   "outputs": [],
   "source": [
    "from pyspark.sql import SparkSession\n",
    "from pyspark.ml.classification  import RandomForestClassifier, DecisionTreeClassifier, GBTClassifier\n",
    "from pyspark.ml.feature import StringIndexer, VectorAssembler, StandardScaler, VectorIndexer\n",
    "from pyspark.sql.functions import *"
   ]
  },
  {
   "cell_type": "code",
   "execution_count": 2,
   "metadata": {},
   "outputs": [],
   "source": [
    "spark=SparkSession.builder.appName('SparkDT').getOrCreate()"
   ]
  },
  {
   "cell_type": "code",
   "execution_count": 3,
   "metadata": {},
   "outputs": [
    {
     "name": "stdout",
     "output_type": "stream",
     "text": [
      "root\n",
      " |-- Date: timestamp (nullable = true)\n",
      " |-- Day: integer (nullable = true)\n",
      " |-- Month: string (nullable = true)\n",
      " |-- Year: integer (nullable = true)\n",
      " |-- Customer_Age: integer (nullable = true)\n",
      " |-- Age_Group: string (nullable = true)\n",
      " |-- Customer_Gender: string (nullable = true)\n",
      " |-- Country: string (nullable = true)\n",
      " |-- State: string (nullable = true)\n",
      " |-- Product_Category: string (nullable = true)\n",
      " |-- Sub_Category: string (nullable = true)\n",
      " |-- Product: string (nullable = true)\n",
      " |-- Order_Quantity: integer (nullable = true)\n",
      " |-- Unit_Cost: integer (nullable = true)\n",
      " |-- Unit_Price: integer (nullable = true)\n",
      " |-- Profit: integer (nullable = true)\n",
      " |-- Cost: integer (nullable = true)\n",
      " |-- Revenue: integer (nullable = true)\n",
      "\n"
     ]
    }
   ],
   "source": [
    "df = spark.read.csv('sales_data.csv', header = True, inferSchema=True)\n",
    "df.printSchema()"
   ]
  },
  {
   "cell_type": "code",
   "execution_count": 4,
   "metadata": {},
   "outputs": [
    {
     "name": "stdout",
     "output_type": "stream",
     "text": [
      "+-------------------+---+--------+----+------------+--------------+---------------+---------+----------------+----------------+------------+-------------------+--------------+---------+----------+------+----+-------+------------+\n",
      "|               Date|Day|   Month|Year|Customer_Age|     Age_Group|Customer_Gender|  Country|           State|Product_Category|Sub_Category|            Product|Order_Quantity|Unit_Cost|Unit_Price|Profit|Cost|Revenue|Gender_Index|\n",
      "+-------------------+---+--------+----+------------+--------------+---------------+---------+----------------+----------------+------------+-------------------+--------------+---------+----------+------+----+-------+------------+\n",
      "|2013-11-26 00:00:00| 26|November|2013|          19|   Youth (<25)|              M|   Canada|British Columbia|     Accessories|  Bike Racks|Hitch Rack - 4-Bike|             8|       45|       120|   590| 360|    950|         0.0|\n",
      "|2015-11-26 00:00:00| 26|November|2015|          19|   Youth (<25)|              M|   Canada|British Columbia|     Accessories|  Bike Racks|Hitch Rack - 4-Bike|             8|       45|       120|   590| 360|    950|         0.0|\n",
      "|2014-03-23 00:00:00| 23|   March|2014|          49|Adults (35-64)|              M|Australia| New South Wales|     Accessories|  Bike Racks|Hitch Rack - 4-Bike|            23|       45|       120|  1366|1035|   2401|         0.0|\n",
      "|2016-03-23 00:00:00| 23|   March|2016|          49|Adults (35-64)|              M|Australia| New South Wales|     Accessories|  Bike Racks|Hitch Rack - 4-Bike|            20|       45|       120|  1188| 900|   2088|         0.0|\n",
      "|2014-05-15 00:00:00| 15|     May|2014|          47|Adults (35-64)|              F|Australia| New South Wales|     Accessories|  Bike Racks|Hitch Rack - 4-Bike|             4|       45|       120|   238| 180|    418|         1.0|\n",
      "+-------------------+---+--------+----+------------+--------------+---------------+---------+----------------+----------------+------------+-------------------+--------------+---------+----------+------+----+-------+------------+\n",
      "only showing top 5 rows\n",
      "\n"
     ]
    }
   ],
   "source": [
    "stringIndex = StringIndexer(inputCol='Customer_Gender', outputCol='Gender_Index')\n",
    "df = stringIndex.fit(df).transform(df)\n",
    "df.show(5)"
   ]
  },
  {
   "cell_type": "code",
   "execution_count": 5,
   "metadata": {},
   "outputs": [
    {
     "name": "stdout",
     "output_type": "stream",
     "text": [
      "+-------------------+---+--------+----+------------+--------------+---------------+---------+----------------+----------------+------------+-------------------+--------------+---------+----------+------+----+-------+------------+-----+\n",
      "|               Date|Day|   Month|Year|Customer_Age|     Age_Group|Customer_Gender|  Country|           State|Product_Category|Sub_Category|            Product|Order_Quantity|Unit_Cost|Unit_Price|Profit|Cost|Revenue|Gender_Index|Label|\n",
      "+-------------------+---+--------+----+------------+--------------+---------------+---------+----------------+----------------+------------+-------------------+--------------+---------+----------+------+----+-------+------------+-----+\n",
      "|2013-11-26 00:00:00| 26|November|2013|          19|   Youth (<25)|              M|   Canada|British Columbia|     Accessories|  Bike Racks|Hitch Rack - 4-Bike|             8|       45|       120|   590| 360|    950|         0.0|  0.0|\n",
      "|2015-11-26 00:00:00| 26|November|2015|          19|   Youth (<25)|              M|   Canada|British Columbia|     Accessories|  Bike Racks|Hitch Rack - 4-Bike|             8|       45|       120|   590| 360|    950|         0.0|  0.0|\n",
      "|2014-03-23 00:00:00| 23|   March|2014|          49|Adults (35-64)|              M|Australia| New South Wales|     Accessories|  Bike Racks|Hitch Rack - 4-Bike|            23|       45|       120|  1366|1035|   2401|         0.0|  0.0|\n",
      "|2016-03-23 00:00:00| 23|   March|2016|          49|Adults (35-64)|              M|Australia| New South Wales|     Accessories|  Bike Racks|Hitch Rack - 4-Bike|            20|       45|       120|  1188| 900|   2088|         0.0|  0.0|\n",
      "|2014-05-15 00:00:00| 15|     May|2014|          47|Adults (35-64)|              F|Australia| New South Wales|     Accessories|  Bike Racks|Hitch Rack - 4-Bike|             4|       45|       120|   238| 180|    418|         1.0|  0.0|\n",
      "+-------------------+---+--------+----+------------+--------------+---------------+---------+----------------+----------------+------------+-------------------+--------------+---------+----------+------+----+-------+------------+-----+\n",
      "only showing top 5 rows\n",
      "\n"
     ]
    }
   ],
   "source": [
    "stringIndex1 = StringIndexer(inputCol='Product_Category', outputCol='Label')\n",
    "df = stringIndex1.fit(df).transform(df)\n",
    "df.show(5)"
   ]
  },
  {
   "cell_type": "code",
   "execution_count": 6,
   "metadata": {},
   "outputs": [],
   "source": [
    "featureAssembler = VectorAssembler(inputCols=['Unit_Price', 'Profit','Cost','Revenue','Gender_Index'], outputCol='Features')\n",
    "df2 = featureAssembler.transform(df)"
   ]
  },
  {
   "cell_type": "code",
   "execution_count": 7,
   "metadata": {},
   "outputs": [
    {
     "name": "stdout",
     "output_type": "stream",
     "text": [
      "+--------------------+-----+\n",
      "|            Features|Label|\n",
      "+--------------------+-----+\n",
      "|[120.0,590.0,360....|  0.0|\n",
      "|[120.0,590.0,360....|  0.0|\n",
      "|[120.0,1366.0,103...|  0.0|\n",
      "|[120.0,1188.0,900...|  0.0|\n",
      "|[120.0,238.0,180....|  0.0|\n",
      "|[120.0,297.0,225....|  0.0|\n",
      "|[120.0,199.0,180....|  0.0|\n",
      "|[120.0,100.0,90.0...|  0.0|\n",
      "|[120.0,1096.0,990...|  0.0|\n",
      "|[120.0,1046.0,945...|  0.0|\n",
      "|[120.0,398.0,360....|  0.0|\n",
      "|[120.0,398.0,360....|  0.0|\n",
      "|[120.0,349.0,315....|  0.0|\n",
      "+--------------------+-----+\n",
      "only showing top 13 rows\n",
      "\n"
     ]
    }
   ],
   "source": [
    "df3 = df2.select(['Features','Label'])\n",
    "df3.show(13)"
   ]
  },
  {
   "cell_type": "code",
   "execution_count": 8,
   "metadata": {},
   "outputs": [
    {
     "name": "stdout",
     "output_type": "stream",
     "text": [
      "+--------------------+-----+--------------------+\n",
      "|            Features|Label|              Scaler|\n",
      "+--------------------+-----+--------------------+\n",
      "|[120.0,590.0,360....|  0.0|[0.13014179109459...|\n",
      "|[120.0,590.0,360....|  0.0|[0.13014179109459...|\n",
      "|[120.0,1366.0,103...|  0.0|[0.13014179109459...|\n",
      "|[120.0,1188.0,900...|  0.0|[0.13014179109459...|\n",
      "|[120.0,238.0,180....|  0.0|[0.13014179109459...|\n",
      "|[120.0,297.0,225....|  0.0|[0.13014179109459...|\n",
      "|[120.0,199.0,180....|  0.0|[0.13014179109459...|\n",
      "|[120.0,100.0,90.0...|  0.0|[0.13014179109459...|\n",
      "|[120.0,1096.0,990...|  0.0|[0.13014179109459...|\n",
      "|[120.0,1046.0,945...|  0.0|[0.13014179109459...|\n",
      "|[120.0,398.0,360....|  0.0|[0.13014179109459...|\n",
      "|[120.0,398.0,360....|  0.0|[0.13014179109459...|\n",
      "|[120.0,349.0,315....|  0.0|[0.13014179109459...|\n",
      "|[120.0,349.0,315....|  0.0|[0.13014179109459...|\n",
      "|[120.0,369.0,225....|  0.0|[0.13014179109459...|\n",
      "|[120.0,517.0,315....|  0.0|[0.13014179109459...|\n",
      "|[120.0,148.0,90.0...|  0.0|[0.13014179109459...|\n",
      "|[120.0,74.0,45.0,...|  0.0|[0.13014179109459...|\n",
      "|[120.0,74.0,45.0,...|  0.0|[0.13014179109459...|\n",
      "|[120.0,74.0,45.0,...|  0.0|[0.13014179109459...|\n",
      "+--------------------+-----+--------------------+\n",
      "only showing top 20 rows\n",
      "\n"
     ]
    }
   ],
   "source": [
    "scaler = StandardScaler(inputCol='Features', outputCol='Scaler')\n",
    "scaledModel = scaler.fit(df3).transform(df3)\n",
    "scaledModel.show()"
   ]
  },
  {
   "cell_type": "code",
   "execution_count": 9,
   "metadata": {},
   "outputs": [],
   "source": [
    "train_data, test_data = scaledModel.randomSplit([.75, .25], seed=13)"
   ]
  },
  {
   "cell_type": "code",
   "execution_count": 10,
   "metadata": {},
   "outputs": [
    {
     "name": "stdout",
     "output_type": "stream",
     "text": [
      "+-----+-------------+\n",
      "|Label|count(Scaler)|\n",
      "+-----+-------------+\n",
      "|  0.0|        52710|\n",
      "|  2.0|        12802|\n",
      "|  1.0|        19398|\n",
      "+-----+-------------+\n",
      "\n"
     ]
    }
   ],
   "source": [
    "train_data.groupBy('Label').agg(count('Scaler')).show()"
   ]
  },
  {
   "cell_type": "code",
   "execution_count": 11,
   "metadata": {},
   "outputs": [],
   "source": [
    "dt = DecisionTreeClassifier(featuresCol = 'Scaler', labelCol = 'Label', maxDepth = 4)\n",
    "dtModel = dt.fit(train_data)"
   ]
  },
  {
   "cell_type": "code",
   "execution_count": 12,
   "metadata": {},
   "outputs": [
    {
     "name": "stdout",
     "output_type": "stream",
     "text": [
      "root\n",
      " |-- Features: vector (nullable = true)\n",
      " |-- Label: double (nullable = false)\n",
      " |-- Scaler: vector (nullable = true)\n",
      " |-- rawPrediction: vector (nullable = true)\n",
      " |-- probability: vector (nullable = true)\n",
      " |-- prediction: double (nullable = false)\n",
      "\n"
     ]
    }
   ],
   "source": [
    "predDt = dtModel.transform(test_data)\n",
    "predDt.printSchema()"
   ]
  },
  {
   "cell_type": "code",
   "execution_count": 13,
   "metadata": {},
   "outputs": [
    {
     "name": "stdout",
     "output_type": "stream",
     "text": [
      "+-----+----------+--------------------+\n",
      "|Label|prediction|         probability|\n",
      "+-----+----------+--------------------+\n",
      "|  0.0|       0.0|[0.99992937853107...|\n",
      "|  0.0|       0.0|[0.99992937853107...|\n",
      "|  0.0|       0.0|[0.99992937853107...|\n",
      "|  0.0|       0.0|[0.99992937853107...|\n",
      "|  0.0|       0.0|[0.99992937853107...|\n",
      "|  0.0|       0.0|[0.99992937853107...|\n",
      "|  0.0|       0.0|[0.99992937853107...|\n",
      "|  0.0|       0.0|[0.99992937853107...|\n",
      "|  0.0|       0.0|[0.99992937853107...|\n",
      "|  0.0|       0.0|[0.99992937853107...|\n",
      "+-----+----------+--------------------+\n",
      "only showing top 10 rows\n",
      "\n"
     ]
    }
   ],
   "source": [
    "selectedDt =predDt.select(\"Label\", \"prediction\", \"probability\")\n",
    "selectedDt.show(10)"
   ]
  },
  {
   "cell_type": "code",
   "execution_count": 14,
   "metadata": {},
   "outputs": [
    {
     "data": {
      "text/plain": [
       "0.9447604763746957"
      ]
     },
     "execution_count": 14,
     "metadata": {},
     "output_type": "execute_result"
    }
   ],
   "source": [
    "from pyspark.ml.evaluation import MulticlassClassificationEvaluator\n",
    "evaluator = MulticlassClassificationEvaluator(predictionCol=\"prediction\", labelCol='Label')\n",
    "evaluator.evaluate(predDt)"
   ]
  },
  {
   "cell_type": "markdown",
   "metadata": {},
   "source": [
    "### Random Forest"
   ]
  },
  {
   "cell_type": "code",
   "execution_count": 15,
   "metadata": {},
   "outputs": [],
   "source": [
    "rf = RandomForestClassifier(featuresCol = 'Scaler', labelCol = 'Label')\n",
    "rfModel = rf.fit(train_data)"
   ]
  },
  {
   "cell_type": "code",
   "execution_count": 16,
   "metadata": {},
   "outputs": [
    {
     "name": "stdout",
     "output_type": "stream",
     "text": [
      "+-----+----------+--------------------+\n",
      "|Label|prediction|         probability|\n",
      "+-----+----------+--------------------+\n",
      "|  0.0|       0.0|[0.98034238974106...|\n",
      "|  0.0|       0.0|[0.98034238974106...|\n",
      "|  0.0|       0.0|[0.98034238974106...|\n",
      "|  0.0|       0.0|[0.98034238974106...|\n",
      "|  0.0|       0.0|[0.98034238974106...|\n",
      "+-----+----------+--------------------+\n",
      "only showing top 5 rows\n",
      "\n"
     ]
    }
   ],
   "source": [
    "predRf = rfModel.transform(test_data)\n",
    "predRf.select(\"Label\", \"prediction\", \"probability\").show(5)"
   ]
  },
  {
   "cell_type": "code",
   "execution_count": 43,
   "metadata": {},
   "outputs": [
    {
     "data": {
      "text/plain": [
       "0.952560310860556"
      ]
     },
     "execution_count": 43,
     "metadata": {},
     "output_type": "execute_result"
    }
   ],
   "source": [
    "evaluator = MulticlassClassificationEvaluator(predictionCol=\"prediction\", labelCol='Label', metricName='f1')\n",
    "evaluator.evaluate(predRf)"
   ]
  }
 ],
 "metadata": {
  "kernelspec": {
   "display_name": "Python 3.10.8 64-bit",
   "language": "python",
   "name": "python3"
  },
  "language_info": {
   "codemirror_mode": {
    "name": "ipython",
    "version": 3
   },
   "file_extension": ".py",
   "mimetype": "text/x-python",
   "name": "python",
   "nbconvert_exporter": "python",
   "pygments_lexer": "ipython3",
   "version": "3.10.8"
  },
  "orig_nbformat": 4,
  "vscode": {
   "interpreter": {
    "hash": "d3e10ef16274dd72e574b8fa73b58450b957d8421a2901baded3cca26fcf5dda"
   }
  }
 },
 "nbformat": 4,
 "nbformat_minor": 2
}
